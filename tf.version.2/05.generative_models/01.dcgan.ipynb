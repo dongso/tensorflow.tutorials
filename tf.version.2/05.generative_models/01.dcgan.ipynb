{
 "cells": [
  {
   "cell_type": "markdown",
   "metadata": {},
   "source": [
    "# DCGAN with MNIST\n",
    "\n",
    "* `Unsupervised Representation Learning with Deep Convolutional Generative Adversarial Networks`, [arXiv:1511.06434](https://arxiv.org/abs/1511.06434)\n",
    "  * Alec Radford, Luke Metz and Soumith Chintala\n",
    "  \n",
    "* Implemented by [`tf.keras.layers`](https://www.tensorflow.org/api_docs/python/tf/keras/layers) and [`eager execution`](https://www.tensorflow.org/guide/eager).\n",
    "* Use `transposed_conv2d` and `conv2d` for Generator and Discriminator, respectively.\n",
    "  * I do not use `dense` layer for model architecture consistency. (So my architecture is different from original dcgan structure)"
   ]
  },
  {
   "cell_type": "markdown",
   "metadata": {},
   "source": [
    "## Import modules"
   ]
  },
  {
   "cell_type": "code",
   "execution_count": null,
   "metadata": {
    "ExecuteTime": {
     "end_time": "2019-03-11T10:23:39.074084Z",
     "start_time": "2019-03-11T10:23:37.318084Z"
    }
   },
   "outputs": [],
   "source": [
    "from __future__ import absolute_import\n",
    "from __future__ import division\n",
    "from __future__ import print_function\n",
    "\n",
    "import os\n",
    "import sys\n",
    "import time\n",
    "import glob\n",
    "\n",
    "import numpy as np\n",
    "import matplotlib.pyplot as plt\n",
    "%matplotlib inline\n",
    "\n",
    "import PIL\n",
    "import imageio\n",
    "from IPython import display\n",
    "\n",
    "import tensorflow as tf\n",
    "from tensorflow.keras import layers\n",
    "tf.enable_eager_execution()\n",
    "\n",
    "os.environ[\"CUDA_VISIBLE_DEVICES\"]=\"0\""
   ]
  },
  {
   "cell_type": "markdown",
   "metadata": {},
   "source": [
    "## Setting hyperparameters"
   ]
  },
  {
   "cell_type": "code",
   "execution_count": null,
   "metadata": {
    "ExecuteTime": {
     "end_time": "2019-03-11T10:23:39.127203Z",
     "start_time": "2019-03-11T10:23:39.120531Z"
    }
   },
   "outputs": [],
   "source": [
    "# Training Flags (hyperparameter configuration)\n",
    "model_name = 'dcgan'\n",
    "train_dir = 'train/' + model_name + '/exp1/'\n",
    "max_epochs = 50\n",
    "save_model_epochs = 10\n",
    "print_steps = 100\n",
    "save_images_epochs = 1\n",
    "batch_size = 128\n",
    "learning_rate_D = 1e-4\n",
    "learning_rate_G = 1e-4\n",
    "k = 1 # the number of step of learning D before learning G (Not used in this code)\n",
    "num_examples_to_generate = 16\n",
    "noise_dim = 100"
   ]
  },
  {
   "cell_type": "markdown",
   "metadata": {},
   "source": [
    "## Load the MNIST dataset"
   ]
  },
  {
   "cell_type": "code",
   "execution_count": null,
   "metadata": {
    "ExecuteTime": {
     "end_time": "2019-03-11T10:23:39.711262Z",
     "start_time": "2019-03-11T10:23:39.184073Z"
    }
   },
   "outputs": [],
   "source": [
    "# Load training and eval data from tf.keras\n",
    "(train_data, train_labels), _ = \\\n",
    "    tf.keras.datasets.mnist.load_data()\n",
    "\n",
    "train_data = train_data.reshape(-1, 28, 28, 1).astype('float32')\n",
    "train_data = train_data / 255.\n",
    "train_labels = np.asarray(train_labels, dtype=np.int32)"
   ]
  },
  {
   "cell_type": "markdown",
   "metadata": {},
   "source": [
    "## Set up dataset with `tf.data`\n",
    "\n",
    "### create input pipeline with `tf.data.Dataset`"
   ]
  },
  {
   "cell_type": "code",
   "execution_count": null,
   "metadata": {
    "ExecuteTime": {
     "end_time": "2019-03-11T10:23:42.488134Z",
     "start_time": "2019-03-11T10:23:42.458740Z"
    }
   },
   "outputs": [],
   "source": [
    "#tf.set_random_seed(219)\n",
    "\n",
    "# for train\n",
    "N = len(train_data)\n",
    "train_dataset = tf.data.Dataset.from_tensor_slices(train_data[:N])\n",
    "train_dataset = train_dataset.shuffle(buffer_size=N)\n",
    "train_dataset = train_dataset.batch(batch_size=batch_size)\n",
    "print(train_dataset)"
   ]
  },
  {
   "cell_type": "markdown",
   "metadata": {
    "cell_style": "center"
   },
   "source": [
    "## Create the generator and discriminator models"
   ]
  },
  {
   "cell_type": "code",
   "execution_count": null,
   "metadata": {
    "ExecuteTime": {
     "end_time": "2019-03-11T10:23:43.627073Z",
     "start_time": "2019-03-11T10:23:43.619396Z"
    }
   },
   "outputs": [],
   "source": [
    "class Conv(tf.keras.Model):\n",
    "  def __init__(self, filters, kernel_size, strides, padding='same',\n",
    "               apply_batchnorm=True, activation='relu'):\n",
    "    super(Conv, self).__init__()\n",
    "    self.apply_batchnorm = apply_batchnorm\n",
    "    assert activation in ['relu', 'leaky_relu', 'none']\n",
    "    self.activation = activation\n",
    "        \n",
    "    self.conv = layers.Conv2D(filters=filters,\n",
    "                              kernel_size=(kernel_size, kernel_size),\n",
    "                              strides=strides,\n",
    "                              padding=padding,\n",
    "                              kernel_initializer=tf.random_normal_initializer(0., 0.02),\n",
    "                              use_bias=not self.apply_batchnorm)\n",
    "    if self.apply_batchnorm:\n",
    "      self.batchnorm = layers.BatchNormalization()\n",
    "  \n",
    "  def call(self, x, training=True):\n",
    "    # convolution\n",
    "    x = self.conv(x)\n",
    "    \n",
    "    # batchnorm\n",
    "    if self.apply_batchnorm:\n",
    "      x = self.batchnorm(x, training=training)\n",
    "    \n",
    "    # activation\n",
    "    if self.activation == 'relu':\n",
    "      x = tf.nn.relu(x)\n",
    "    elif self.activation == 'leaky_relu':\n",
    "      x = tf.nn.leaky_relu(x)\n",
    "    else:\n",
    "      pass\n",
    "    \n",
    "    return x"
   ]
  },
  {
   "cell_type": "code",
   "execution_count": null,
   "metadata": {
    "ExecuteTime": {
     "end_time": "2019-03-11T10:23:44.035133Z",
     "start_time": "2019-03-11T10:23:44.026929Z"
    }
   },
   "outputs": [],
   "source": [
    "class ConvTranspose(tf.keras.Model):\n",
    "  def __init__(self, filters, kernel_size, padding='same',\n",
    "               apply_batchnorm=True, activation='relu'):\n",
    "    super(ConvTranspose, self).__init__()\n",
    "    self.apply_batchnorm = apply_batchnorm\n",
    "    assert activation in ['relu', 'sigmoid']\n",
    "    self.activation = activation\n",
    "    self.up_conv = layers.Conv2DTranspose(filters=filters,\n",
    "                                          kernel_size=(kernel_size, kernel_size),\n",
    "                                          strides=2,\n",
    "                                          padding=padding,\n",
    "                                          kernel_initializer=tf.random_normal_initializer(0., 0.02),\n",
    "                                          use_bias=not self.apply_batchnorm)\n",
    "    if self.apply_batchnorm:\n",
    "      self.batchnorm = layers.BatchNormalization()\n",
    "\n",
    "  def call(self, x, training=True):\n",
    "    # conv transpose\n",
    "    x = self.up_conv(x)\n",
    "    \n",
    "    # batchnorm\n",
    "    if self.apply_batchnorm:\n",
    "      x = self.batchnorm(x, training=training)\n",
    "      \n",
    "    # activation\n",
    "    if self.activation == 'relu':\n",
    "      x = tf.nn.relu(x)\n",
    "    else:\n",
    "      x = tf.nn.sigmoid(x)\n",
    "    \n",
    "    return x"
   ]
  },
  {
   "cell_type": "code",
   "execution_count": null,
   "metadata": {
    "ExecuteTime": {
     "end_time": "2019-03-11T10:23:44.448329Z",
     "start_time": "2019-03-11T10:23:44.442268Z"
    },
    "cell_style": "center"
   },
   "outputs": [],
   "source": [
    "class Generator(tf.keras.Model):\n",
    "  def __init__(self):\n",
    "    super(Generator, self).__init__()\n",
    "    self.conv1 = ConvTranspose(256, 3, padding='valid')\n",
    "    self.conv2 = ConvTranspose(128, 3, padding='valid')\n",
    "    self.conv3 = ConvTranspose(64, 4)\n",
    "    self.conv4 = ConvTranspose(1, 4, apply_batchnorm=False, activation='sigmoid')\n",
    "\n",
    "  def call(self, inputs, training=True):\n",
    "    \"\"\"Run the model.\"\"\"\n",
    "    # inputs: [1, 1, 100]\n",
    "    conv1 = self.conv1(inputs, training=training)           # conv1: [3, 3, 256]\n",
    "    conv2 = self.conv2(conv1, training=training)            # conv2: [7, 7, 128]\n",
    "    conv3 = self.conv3(conv2, training=training)            # conv3: [14, 14, 64]\n",
    "    generated_images = self.conv4(conv3, training=training) # generated_images: [28, 28, 1]\n",
    "    \n",
    "    return generated_images"
   ]
  },
  {
   "cell_type": "code",
   "execution_count": null,
   "metadata": {
    "ExecuteTime": {
     "end_time": "2019-03-11T10:23:44.825583Z",
     "start_time": "2019-03-11T10:23:44.819931Z"
    }
   },
   "outputs": [],
   "source": [
    "class Discriminator(tf.keras.Model):\n",
    "  def __init__(self):\n",
    "    super(Discriminator, self).__init__()\n",
    "    self.conv1 = Conv(64, 4, 2, apply_batchnorm=False, activation='leaky_relu')\n",
    "    self.conv2 = Conv(128, 4, 2, activation='leaky_relu')\n",
    "    self.conv3 = Conv(256, 3, 2, padding='valid', activation='leaky_relu')\n",
    "    self.conv4 = Conv(1, 3, 1, padding='valid', apply_batchnorm=False, activation='none')\n",
    "\n",
    "  def call(self, inputs, training=True):\n",
    "    \"\"\"Run the model.\"\"\"\n",
    "    # inputs: [28, 28, 1]\n",
    "    conv1 = self.conv1(inputs)                            # conv1: [14, 14, 64]\n",
    "    conv2 = self.conv2(conv1)                             # conv2: [7, 7, 128]\n",
    "    conv3 = self.conv3(conv2)                             # conv3: [3, 3, 256]\n",
    "    conv4 = self.conv4(conv3)                             # conv4: [1, 1, 1]\n",
    "    discriminator_logits = tf.squeeze(conv4, axis=[1, 2]) # discriminator_logits: [1,]\n",
    "    \n",
    "    return discriminator_logits"
   ]
  },
  {
   "cell_type": "code",
   "execution_count": null,
   "metadata": {
    "ExecuteTime": {
     "end_time": "2019-03-11T10:23:45.202464Z",
     "start_time": "2019-03-11T10:23:45.187910Z"
    }
   },
   "outputs": [],
   "source": [
    "generator = Generator()\n",
    "discriminator = Discriminator()"
   ]
  },
  {
   "cell_type": "code",
   "execution_count": null,
   "metadata": {
    "ExecuteTime": {
     "end_time": "2019-03-11T10:23:45.581856Z",
     "start_time": "2019-03-11T10:23:45.578462Z"
    }
   },
   "outputs": [],
   "source": [
    "# tf.contrib.eager.defun will be deprecated in TF version 2.0\n",
    "# Defun for performance boost\n",
    "generator.call = tf.contrib.eager.defun(generator.call)\n",
    "discriminator.call = tf.contrib.eager.defun(discriminator.call)"
   ]
  },
  {
   "cell_type": "markdown",
   "metadata": {},
   "source": [
    "## Define the loss functions and the optimizer"
   ]
  },
  {
   "cell_type": "code",
   "execution_count": null,
   "metadata": {
    "ExecuteTime": {
     "end_time": "2019-03-11T10:23:46.638562Z",
     "start_time": "2019-03-11T10:23:46.635137Z"
    }
   },
   "outputs": [],
   "source": [
    "# tf.keras.losses will be used in TF version 2.0\n",
    "#bce = tf.keras.losses.BinaryCrossentropy()"
   ]
  },
  {
   "cell_type": "code",
   "execution_count": null,
   "metadata": {
    "ExecuteTime": {
     "end_time": "2019-03-11T10:23:49.506586Z",
     "start_time": "2019-03-11T10:23:49.500794Z"
    }
   },
   "outputs": [],
   "source": [
    "def GANLoss(logits, is_real=True):\n",
    "  \"\"\"Computes standard GAN loss between `logits` and `labels`.\n",
    "\n",
    "  Args:\n",
    "    logits (`1-rank Tensor`): logits.\n",
    "    is_real (`bool`): True means `1` labeling, False means `0` labeling.\n",
    "\n",
    "  Returns:\n",
    "    loss (`0-randk Tensor): the standard GAN loss value. (binary_cross_entropy)\n",
    "  \"\"\"\n",
    "  if is_real:\n",
    "    labels = tf.ones_like(logits)\n",
    "  else:\n",
    "    labels = tf.zeros_like(logits)\n",
    "\n",
    "  return tf.losses.sigmoid_cross_entropy(multi_class_labels=labels, logits=logits)\n",
    "  #return bce(labels, logits)"
   ]
  },
  {
   "cell_type": "code",
   "execution_count": null,
   "metadata": {
    "ExecuteTime": {
     "end_time": "2019-03-11T10:23:50.719954Z",
     "start_time": "2019-03-11T10:23:50.715837Z"
    }
   },
   "outputs": [],
   "source": [
    "def discriminator_loss(real_logits, fake_logits):\n",
    "  # losses of real with label \"1\"\n",
    "  real_loss = GANLoss(logits=real_logits, is_real=True)\n",
    "  # losses of fake with label \"0\"\n",
    "  fake_loss = GANLoss(logits=fake_logits, is_real=False)\n",
    "  \n",
    "  return real_loss + fake_loss"
   ]
  },
  {
   "cell_type": "code",
   "execution_count": null,
   "metadata": {
    "ExecuteTime": {
     "end_time": "2019-03-11T10:23:50.974415Z",
     "start_time": "2019-03-11T10:23:50.970931Z"
    }
   },
   "outputs": [],
   "source": [
    "def generator_loss(fake_logits):\n",
    "  # losses of Generator with label \"1\" that used to fool the Discriminator\n",
    "  return GANLoss(logits=fake_logits, is_real=True)"
   ]
  },
  {
   "cell_type": "code",
   "execution_count": null,
   "metadata": {
    "ExecuteTime": {
     "end_time": "2019-03-11T10:23:51.241555Z",
     "start_time": "2019-03-11T10:23:51.237642Z"
    }
   },
   "outputs": [],
   "source": [
    "#discriminator_optimizer = tf.train.AdamOptimizer(learning_rate_D, beta1=0.5)\n",
    "discriminator_optimizer = tf.train.RMSPropOptimizer(learning_rate_D)\n",
    "generator_optimizer = tf.train.AdamOptimizer(learning_rate_G, beta1=0.5)"
   ]
  },
  {
   "cell_type": "markdown",
   "metadata": {},
   "source": [
    "## Checkpoints (Object-based saving)"
   ]
  },
  {
   "cell_type": "code",
   "execution_count": null,
   "metadata": {
    "ExecuteTime": {
     "end_time": "2019-03-11T10:23:52.983526Z",
     "start_time": "2019-03-11T10:23:52.978119Z"
    }
   },
   "outputs": [],
   "source": [
    "checkpoint_dir = train_dir\n",
    "if not tf.gfile.Exists(checkpoint_dir):\n",
    "  tf.gfile.MakeDirs(checkpoint_dir)\n",
    "checkpoint_prefix = os.path.join(checkpoint_dir, \"ckpt\")\n",
    "checkpoint = tf.train.Checkpoint(generator_optimizer=generator_optimizer,\n",
    "                                 discriminator_optimizer=discriminator_optimizer,\n",
    "                                 generator=generator,\n",
    "                                 discriminator=discriminator)"
   ]
  },
  {
   "cell_type": "markdown",
   "metadata": {},
   "source": [
    "## Training"
   ]
  },
  {
   "cell_type": "code",
   "execution_count": null,
   "metadata": {
    "ExecuteTime": {
     "end_time": "2019-03-11T10:23:55.232038Z",
     "start_time": "2019-03-11T10:23:55.227345Z"
    }
   },
   "outputs": [],
   "source": [
    "# keeping the random vector constant for generation (prediction) so\n",
    "# it will be easier to see the improvement of the gan.\n",
    "#const_random_vector_for_saving = tf.random_normal([num_examples_to_generate, 1, 1, noise_dim])\n",
    "const_random_vector_for_saving = tf.random_uniform([num_examples_to_generate, 1, 1, noise_dim],\n",
    "                                                   minval=-1.0, maxval=1.0)"
   ]
  },
  {
   "cell_type": "code",
   "execution_count": null,
   "metadata": {
    "ExecuteTime": {
     "end_time": "2019-03-11T10:23:55.871780Z",
     "start_time": "2019-03-11T10:23:55.860170Z"
    }
   },
   "outputs": [],
   "source": [
    "def print_or_save_sample_images(sample_images, max_print_size=num_examples_to_generate,\n",
    "                                is_square=False, is_save=False, epoch=None,\n",
    "                                checkpoint_dir=checkpoint_dir):\n",
    "  available_print_size = list(range(1, 26))\n",
    "  assert max_print_size in available_print_size\n",
    "  \n",
    "  if not is_square:\n",
    "    print_images = sample_images[:max_print_size, ...]\n",
    "    print_images = print_images.reshape([max_print_size, 28, 28])\n",
    "    print_images = print_images.swapaxes(0, 1)\n",
    "    print_images = print_images.reshape([28, max_print_size * 28])\n",
    "\n",
    "    fig = plt.figure(figsize=(max_print_size, 1))\n",
    "    plt.imshow(print_images, cmap='gray')\n",
    "    plt.axis('off')\n",
    "    \n",
    "  else:\n",
    "    num_columns = int(np.sqrt(max_print_size))\n",
    "    max_print_size = int(num_columns**2)\n",
    "    print_images = sample_images[:max_print_size, ...]\n",
    "    print_images = print_images.reshape([max_print_size, 28, 28])\n",
    "    print_images = print_images.swapaxes(0, 1)\n",
    "    print_images = print_images.reshape([28, max_print_size * 28])\n",
    "    print_images = [print_images[:,i*28*num_columns:(i+1)*28*num_columns] for i in range(num_columns)]\n",
    "    print_images = np.concatenate(tuple(print_images), axis=0)\n",
    "    \n",
    "    fig = plt.figure(figsize=(num_columns, num_columns))\n",
    "    plt.subplots_adjust(left=0.0, right=1.0, top=1.0, bottom=0.0)\n",
    "    plt.imshow(print_images, cmap='gray')\n",
    "    plt.axis('off')\n",
    "    \n",
    "  if is_save and epoch is not None:\n",
    "    filepath = os.path.join(checkpoint_dir, 'image_at_epoch_{:04d}.png'.format(epoch))\n",
    "    plt.savefig(filepath)\n",
    "\n",
    "  plt.show()"
   ]
  },
  {
   "cell_type": "code",
   "execution_count": null,
   "metadata": {
    "ExecuteTime": {
     "end_time": "2019-03-11T10:24:08.201922Z",
     "start_time": "2019-03-11T10:23:56.437395Z"
    }
   },
   "outputs": [],
   "source": [
    "print('Start Training.')\n",
    "global_step = tf.train.get_or_create_global_step()\n",
    "num_batches_per_epoch = int(N / batch_size)\n",
    "for epoch in range(max_epochs):\n",
    "  \n",
    "  for step, images in enumerate(train_dataset):\n",
    "    start_time = time.time()\n",
    "    \n",
    "    # generating noise from a uniform distribution\n",
    "    #noise = tf.random_normal([batch_size, 1, 1, noise_dim])\n",
    "    noise = tf.random_uniform([num_examples_to_generate, 1, 1, noise_dim], minval=-1.0, maxval=1.0)\n",
    "\n",
    "    with tf.GradientTape() as gen_tape, tf.GradientTape() as disc_tape:\n",
    "      generated_images = generator(noise, training=True)\n",
    "\n",
    "      real_logits = discriminator(images, training=True)\n",
    "      fake_logits = discriminator(generated_images, training=True)\n",
    "\n",
    "      gen_loss = generator_loss(fake_logits)\n",
    "      disc_loss = discriminator_loss(real_logits, fake_logits)\n",
    "\n",
    "    gradients_of_discriminator = disc_tape.gradient(disc_loss, discriminator.variables)\n",
    "    gradients_of_generator = gen_tape.gradient(gen_loss, generator.variables)\n",
    "\n",
    "    discriminator_optimizer.apply_gradients(zip(gradients_of_discriminator, discriminator.variables))\n",
    "    generator_optimizer.apply_gradients(zip(gradients_of_generator, generator.variables),\n",
    "                                        global_step=global_step)\n",
    "    \n",
    "    epochs = epoch + step / float(num_batches_per_epoch)\n",
    "    duration = time.time() - start_time\n",
    "\n",
    "    if global_step.numpy() % print_steps == 0:\n",
    "      display.clear_output(wait=True)\n",
    "      examples_per_sec = batch_size / float(duration)\n",
    "      print(\"Epochs: {:.2f} global_step: {} loss_D: {:.3f} loss_G: {:.3f} ({:.2f} examples/sec; {:.3f} sec/batch)\".format(\n",
    "                epochs, global_step.numpy(), disc_loss, gen_loss, examples_per_sec, duration))\n",
    "      #random_vector_for_sampling = tf.random_normal([num_examples_to_generate, 1, 1, noise_dim])\n",
    "      random_vector_for_sampling = tf.random_uniform([num_examples_to_generate, 1, 1, noise_dim],\n",
    "                                                     minval=-1.0, maxval=1.0)\n",
    "      sample_images = generator(random_vector_for_sampling, training=False)\n",
    "      print_or_save_sample_images(sample_images.numpy())\n",
    "\n",
    "  if (epoch + 1) % save_images_epochs == 0:\n",
    "    display.clear_output(wait=True)\n",
    "    print(\"This images are saved at {} epoch\".format(epoch+1))\n",
    "    sample_images = generator(const_random_vector_for_saving, training=False)\n",
    "    print_or_save_sample_images(sample_images.numpy(), is_square=True,\n",
    "                                is_save=True, epoch=epoch+1,\n",
    "                                checkpoint_dir=checkpoint_dir)\n",
    "\n",
    "  # saving (checkpoint) the model every save_epochs\n",
    "  if (epoch + 1) % save_model_epochs == 0:\n",
    "    checkpoint.save(file_prefix=checkpoint_prefix)\n",
    "    \n",
    "print('Training Done.')"
   ]
  },
  {
   "cell_type": "code",
   "execution_count": null,
   "metadata": {
    "ExecuteTime": {
     "end_time": "2019-03-11T10:24:10.495541Z",
     "start_time": "2019-03-11T10:24:10.326319Z"
    }
   },
   "outputs": [],
   "source": [
    "# generating after the final epoch\n",
    "display.clear_output(wait=True)\n",
    "sample_images = generator(const_random_vector_for_saving, training=False)\n",
    "print_or_save_sample_images(sample_images.numpy(), is_square=True,\n",
    "                            is_save=True, epoch=epoch+1,\n",
    "                            checkpoint_dir=checkpoint_dir)"
   ]
  },
  {
   "cell_type": "markdown",
   "metadata": {},
   "source": [
    "## Restore the latest checkpoint"
   ]
  },
  {
   "cell_type": "code",
   "execution_count": null,
   "metadata": {
    "ExecuteTime": {
     "end_time": "2019-03-11T10:24:11.960259Z",
     "start_time": "2019-03-11T10:24:11.948893Z"
    }
   },
   "outputs": [],
   "source": [
    "# restoring the latest checkpoint in checkpoint_dir\n",
    "checkpoint.restore(tf.train.latest_checkpoint(checkpoint_dir))"
   ]
  },
  {
   "cell_type": "markdown",
   "metadata": {},
   "source": [
    "## Display an image using the epoch number"
   ]
  },
  {
   "cell_type": "code",
   "execution_count": null,
   "metadata": {
    "ExecuteTime": {
     "end_time": "2019-03-11T10:24:12.952866Z",
     "start_time": "2019-03-11T10:24:12.948614Z"
    }
   },
   "outputs": [],
   "source": [
    "def display_image(epoch_no, checkpoint_dir=checkpoint_dir):\n",
    "  filepath = os.path.join(checkpoint_dir, 'image_at_epoch_{:04d}.png'.format(epoch_no))\n",
    "  return PIL.Image.open(filepath)"
   ]
  },
  {
   "cell_type": "code",
   "execution_count": null,
   "metadata": {
    "ExecuteTime": {
     "end_time": "2019-03-11T10:24:13.353062Z",
     "start_time": "2019-03-11T10:24:13.312438Z"
    }
   },
   "outputs": [],
   "source": [
    "display_image(max_epochs)"
   ]
  },
  {
   "cell_type": "markdown",
   "metadata": {},
   "source": [
    "## Generate a GIF of all the saved images."
   ]
  },
  {
   "cell_type": "code",
   "execution_count": null,
   "metadata": {
    "ExecuteTime": {
     "end_time": "2019-03-11T10:24:18.112338Z",
     "start_time": "2019-03-11T10:24:17.995889Z"
    }
   },
   "outputs": [],
   "source": [
    "filename = model_name + '.gif'\n",
    "with imageio.get_writer(filename, mode='I') as writer:\n",
    "  filenames = glob.glob(os.path.join(checkpoint_dir, 'image*.png'))\n",
    "  filenames = sorted(filenames)\n",
    "  last = -1\n",
    "  for i,filename in enumerate(filenames):\n",
    "    frame = 2*(i**0.5)\n",
    "    if round(frame) > round(last):\n",
    "      last = frame\n",
    "    else:\n",
    "      continue\n",
    "    image = imageio.imread(filename)\n",
    "    writer.append_data(image)\n",
    "  image = imageio.imread(filename)\n",
    "  writer.append_data(image)\n",
    "    \n",
    "# this is a hack to display the gif inside the notebook\n",
    "os.system('cp dcgan.gif dcgan.gif.png')"
   ]
  },
  {
   "cell_type": "code",
   "execution_count": null,
   "metadata": {
    "ExecuteTime": {
     "end_time": "2019-03-11T10:24:19.106799Z",
     "start_time": "2019-03-11T10:24:19.087086Z"
    },
    "scrolled": true
   },
   "outputs": [],
   "source": [
    "display.Image(filename=\"dcgan.gif.png\")"
   ]
  }
 ],
 "metadata": {
  "kernelspec": {
   "display_name": "Python 3",
   "language": "python",
   "name": "python3"
  },
  "language_info": {
   "codemirror_mode": {
    "name": "ipython",
    "version": 3
   },
   "file_extension": ".py",
   "mimetype": "text/x-python",
   "name": "python",
   "nbconvert_exporter": "python",
   "pygments_lexer": "ipython3",
   "version": "3.6.5"
  },
  "latex_envs": {
   "LaTeX_envs_menu_present": true,
   "autoclose": false,
   "autocomplete": true,
   "bibliofile": "biblio.bib",
   "cite_by": "apalike",
   "current_citInitial": 1,
   "eqLabelWithNumbers": true,
   "eqNumInitial": 1,
   "hotkeys": {
    "equation": "Ctrl-E",
    "itemize": "Ctrl-I"
   },
   "labels_anchors": false,
   "latex_user_defs": false,
   "report_style_numbering": false,
   "user_envs_cfg": false
  },
  "toc": {
   "base_numbering": 1,
   "nav_menu": {},
   "number_sections": true,
   "sideBar": true,
   "skip_h1_title": false,
   "title_cell": "Table of Contents",
   "title_sidebar": "Contents",
   "toc_cell": false,
   "toc_position": {},
   "toc_section_display": true,
   "toc_window_display": false
  },
  "varInspector": {
   "cols": {
    "lenName": 16,
    "lenType": 16,
    "lenVar": 40
   },
   "kernels_config": {
    "python": {
     "delete_cmd_postfix": "",
     "delete_cmd_prefix": "del ",
     "library": "var_list.py",
     "varRefreshCmd": "print(var_dic_list())"
    },
    "r": {
     "delete_cmd_postfix": ") ",
     "delete_cmd_prefix": "rm(",
     "library": "var_list.r",
     "varRefreshCmd": "cat(var_dic_list()) "
    }
   },
   "position": {
    "height": "413px",
    "left": "733px",
    "right": "2px",
    "top": "77px",
    "width": "493px"
   },
   "types_to_exclude": [
    "module",
    "function",
    "builtin_function_or_method",
    "instance",
    "_Feature"
   ],
   "window_display": false
  }
 },
 "nbformat": 4,
 "nbformat_minor": 2
}
