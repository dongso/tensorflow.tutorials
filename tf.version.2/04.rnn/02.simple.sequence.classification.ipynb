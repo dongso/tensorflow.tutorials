{
 "cells": [
  {
   "cell_type": "markdown",
   "metadata": {},
   "source": [
    "# Sequence classification by RNN\n",
    "\n",
    "* Creating the **data pipeline** with `tf.data`\n",
    "* Preprocessing word sequences (variable input sequence length) using `tf.keras.preprocessing`\n",
    "* Using `tf.nn.embedding_lookup` for getting vector of tokens (eg. word, character)\n",
    "* Creating the model as **Class**\n",
    "* Reference\n",
    "  * https://github.com/golbin/TensorFlow-Tutorials/blob/master/10%20-%20RNN/02%20-%20Autocomplete.py\n",
    "  * https://github.com/aisolab/TF_code_examples_for_Deep_learning/blob/master/Tutorial%20of%20implementing%20Sequence%20classification%20with%20RNN%20series.ipynb"
   ]
  },
  {
   "cell_type": "code",
   "execution_count": 1,
   "metadata": {},
   "outputs": [],
   "source": [
    "from __future__ import absolute_import\n",
    "from __future__ import division\n",
    "from __future__ import print_function\n",
    "\n",
    "import os\n",
    "import time\n",
    "import numpy as np\n",
    "import matplotlib.pyplot as plt\n",
    "%matplotlib inline\n",
    "from IPython.display import clear_output\n",
    "\n",
    "import tensorflow as tf\n",
    "from tensorflow.keras import layers\n",
    "tf.enable_eager_execution()\n",
    "\n",
    "tf.logging.set_verbosity(tf.logging.INFO)\n",
    "\n",
    "os.environ[\"CUDA_VISIBLE_DEVICES\"]=\"0\""
   ]
  },
  {
   "cell_type": "code",
   "execution_count": 2,
   "metadata": {},
   "outputs": [],
   "source": [
    "from tensorflow.python.keras.preprocessing.text import Tokenizer\n",
    "from tensorflow.python.keras.preprocessing.sequence import pad_sequences"
   ]
  },
  {
   "cell_type": "markdown",
   "metadata": {},
   "source": [
    "## Prepare example data"
   ]
  },
  {
   "cell_type": "code",
   "execution_count": 3,
   "metadata": {},
   "outputs": [],
   "source": [
    "x_train_words = ['good', 'bad', 'amazing', 'so good', 'bull shit',\n",
    "                 'awesome', 'how dare', 'very much', 'nice', 'god damn it',\n",
    "                 'very very very happy', 'what the fuck']\n",
    "y_train = np.array([0, 1, 0, 0, 1,\n",
    "                    0, 1, 0, 0, 1,\n",
    "                    0, 1], dtype=np.int32)"
   ]
  },
  {
   "cell_type": "code",
   "execution_count": 4,
   "metadata": {},
   "outputs": [
    {
     "name": "stdout",
     "output_type": "stream",
     "text": [
      "word: good\n",
      "label: 0\n"
     ]
    }
   ],
   "source": [
    "# positive sample\n",
    "index = 0\n",
    "print(\"word: {}\\nlabel: {}\".format(x_train_words[index], y_train[index]))"
   ]
  },
  {
   "cell_type": "code",
   "execution_count": 5,
   "metadata": {},
   "outputs": [
    {
     "name": "stdout",
     "output_type": "stream",
     "text": [
      "word: bad\n",
      "label: 1\n"
     ]
    }
   ],
   "source": [
    "# negative sample\n",
    "index = 1\n",
    "print(\"word: {}\\nlabel: {}\".format(x_train_words[index], y_train[index]))"
   ]
  },
  {
   "cell_type": "markdown",
   "metadata": {},
   "source": [
    "## Tokenizer"
   ]
  },
  {
   "cell_type": "code",
   "execution_count": 6,
   "metadata": {},
   "outputs": [],
   "source": [
    "tokenizer = Tokenizer(char_level=True)"
   ]
  },
  {
   "cell_type": "code",
   "execution_count": 7,
   "metadata": {},
   "outputs": [
    {
     "name": "stdout",
     "output_type": "stream",
     "text": [
      "CPU times: user 215 µs, sys: 1 µs, total: 216 µs\n",
      "Wall time: 224 µs\n"
     ]
    }
   ],
   "source": [
    "%%time\n",
    "tokenizer.fit_on_texts(x_train_words)"
   ]
  },
  {
   "cell_type": "code",
   "execution_count": 8,
   "metadata": {},
   "outputs": [
    {
     "name": "stdout",
     "output_type": "stream",
     "text": [
      "number of characters: 25\n"
     ]
    }
   ],
   "source": [
    "num_chars = len(tokenizer.word_index) + 1\n",
    "print(\"number of characters: {}\".format(num_chars))"
   ]
  },
  {
   "cell_type": "code",
   "execution_count": 9,
   "metadata": {},
   "outputs": [
    {
     "data": {
      "text/plain": [
       "{' ': 1,\n",
       " 'e': 2,\n",
       " 'o': 3,\n",
       " 'a': 4,\n",
       " 'd': 5,\n",
       " 'h': 6,\n",
       " 'r': 7,\n",
       " 'y': 8,\n",
       " 'g': 9,\n",
       " 'm': 10,\n",
       " 'i': 11,\n",
       " 't': 12,\n",
       " 'v': 13,\n",
       " 'n': 14,\n",
       " 's': 15,\n",
       " 'u': 16,\n",
       " 'w': 17,\n",
       " 'c': 18,\n",
       " 'b': 19,\n",
       " 'l': 20,\n",
       " 'p': 21,\n",
       " 'z': 22,\n",
       " 'f': 23,\n",
       " 'k': 24}"
      ]
     },
     "execution_count": 9,
     "metadata": {},
     "output_type": "execute_result"
    }
   ],
   "source": [
    "tokenizer.word_index"
   ]
  },
  {
   "cell_type": "code",
   "execution_count": 10,
   "metadata": {},
   "outputs": [],
   "source": [
    "x_train_tokens = tokenizer.texts_to_sequences(x_train_words)"
   ]
  },
  {
   "cell_type": "code",
   "execution_count": 11,
   "metadata": {},
   "outputs": [
    {
     "name": "stdout",
     "output_type": "stream",
     "text": [
      "text: amazing\n",
      "token: [4, 10, 4, 22, 11, 14, 9]\n"
     ]
    }
   ],
   "source": [
    "index = 2\n",
    "print(\"text: {}\".format(x_train_words[index]))\n",
    "print(\"token: {}\".format(x_train_tokens[index]))"
   ]
  },
  {
   "cell_type": "code",
   "execution_count": 12,
   "metadata": {},
   "outputs": [],
   "source": [
    "x_train_seq_length = np.array([len(tokens) for tokens in x_train_tokens], dtype=np.int32)\n",
    "num_seq_length = x_train_seq_length"
   ]
  },
  {
   "cell_type": "code",
   "execution_count": 13,
   "metadata": {},
   "outputs": [
    {
     "name": "stdout",
     "output_type": "stream",
     "text": [
      "20\n"
     ]
    }
   ],
   "source": [
    "max_seq_length = np.max(num_seq_length)\n",
    "print(max_seq_length)"
   ]
  },
  {
   "cell_type": "markdown",
   "metadata": {},
   "source": [
    "### Create pad_seq data"
   ]
  },
  {
   "cell_type": "code",
   "execution_count": 14,
   "metadata": {},
   "outputs": [],
   "source": [
    "pad = 'pre'\n",
    "#pad = 'post'"
   ]
  },
  {
   "cell_type": "code",
   "execution_count": 15,
   "metadata": {},
   "outputs": [],
   "source": [
    "x_train_pad = pad_sequences(sequences=x_train_tokens, maxlen=max_seq_length,\n",
    "                            padding=pad, truncating=pad)"
   ]
  },
  {
   "cell_type": "code",
   "execution_count": 16,
   "metadata": {},
   "outputs": [
    {
     "name": "stdout",
     "output_type": "stream",
     "text": [
      "text: very much\n",
      "\n",
      "token: [13, 2, 7, 8, 1, 10, 16, 18, 6]\n",
      "\n",
      "pad: [ 0  0  0  0  0  0  0  0  0  0  0 13  2  7  8  1 10 16 18  6]\n"
     ]
    }
   ],
   "source": [
    "index = 7\n",
    "print(\"text: {}\\n\".format(x_train_words[index]))\n",
    "print(\"token: {}\\n\".format(x_train_tokens[index]))\n",
    "print(\"pad: {}\".format(x_train_pad[index]))"
   ]
  },
  {
   "cell_type": "markdown",
   "metadata": {},
   "source": [
    "### Tokenizer Inverse Map"
   ]
  },
  {
   "cell_type": "code",
   "execution_count": 17,
   "metadata": {},
   "outputs": [
    {
     "name": "stdout",
     "output_type": "stream",
     "text": [
      "{1: ' ', 2: 'e', 3: 'o', 4: 'a', 5: 'd', 6: 'h', 7: 'r', 8: 'y', 9: 'g', 10: 'm', 11: 'i', 12: 't', 13: 'v', 14: 'n', 15: 's', 16: 'u', 17: 'w', 18: 'c', 19: 'b', 20: 'l', 21: 'p', 22: 'z', 23: 'f', 24: 'k'}\n"
     ]
    }
   ],
   "source": [
    "idx = tokenizer.word_index\n",
    "inverse_map = dict(zip(idx.values(), idx.keys()))\n",
    "print(inverse_map)"
   ]
  },
  {
   "cell_type": "code",
   "execution_count": 18,
   "metadata": {},
   "outputs": [],
   "source": [
    "def tokens_to_string(tokens):\n",
    "  # Map from tokens back to words.\n",
    "  words = [inverse_map[token] for token in tokens if token != 0]\n",
    "\n",
    "  # Concatenate all words.\n",
    "  text = \"\".join(words)\n",
    "\n",
    "  return text"
   ]
  },
  {
   "cell_type": "code",
   "execution_count": 19,
   "metadata": {},
   "outputs": [
    {
     "name": "stdout",
     "output_type": "stream",
     "text": [
      "original text:\n",
      "very very very happy\n",
      "\n",
      "tokens to string:\n",
      "very very very happy\n"
     ]
    }
   ],
   "source": [
    "index = 10\n",
    "print(\"original text:\\n{}\\n\".format(x_train_words[index]))\n",
    "print(\"tokens to string:\\n{}\".format(tokens_to_string(x_train_tokens[index])))"
   ]
  },
  {
   "cell_type": "markdown",
   "metadata": {},
   "source": [
    "## Create the Recurrent Neural Network\n",
    "\n",
    "We are now ready to create the Recurrent Neural Network (RNN). We will use the TensorFlow API."
   ]
  },
  {
   "cell_type": "code",
   "execution_count": 20,
   "metadata": {},
   "outputs": [],
   "source": [
    "# Set the hyperparameter set\n",
    "batch_size = 4\n",
    "max_epochs = 50\n",
    "#embedding_size = 8\n",
    "num_units = 16 # the number of nodes in RNN hidden layer\n",
    "num_classes = 2 # Two classes [True, False]\n",
    "initializer_scale = 0.1\n",
    "learning_rate = 1e-3"
   ]
  },
  {
   "cell_type": "markdown",
   "metadata": {},
   "source": [
    "### Set up dataset with `tf.data`\n",
    "\n",
    "#### create input pipeline with `tf.data.Dataset`"
   ]
  },
  {
   "cell_type": "code",
   "execution_count": 21,
   "metadata": {},
   "outputs": [
    {
     "name": "stdout",
     "output_type": "stream",
     "text": [
      "<BatchDataset shapes: ((?, 20), (?,), (?,)), types: (tf.int32, tf.int32, tf.int32)>\n"
     ]
    }
   ],
   "source": [
    "## create data pipeline with tf.data\n",
    "train_dataset = tf.data.Dataset.from_tensor_slices((x_train_pad, x_train_seq_length, y_train))\n",
    "train_dataset = train_dataset.shuffle(buffer_size = 100)\n",
    "train_dataset = train_dataset.repeat()\n",
    "train_dataset = train_dataset.batch(batch_size = batch_size)\n",
    "print(train_dataset)"
   ]
  },
  {
   "cell_type": "markdown",
   "metadata": {},
   "source": [
    "### Define CharRNN class"
   ]
  },
  {
   "cell_type": "code",
   "execution_count": 22,
   "metadata": {},
   "outputs": [],
   "source": [
    "model = tf.keras.Sequential([\n",
    "          layers.Embedding(num_chars, num_chars, embeddings_initializer='identity', trainable=False),\n",
    "          layers.SimpleRNN(units=num_units),\n",
    "          layers.Dense(units=num_classes)])"
   ]
  },
  {
   "cell_type": "code",
   "execution_count": 23,
   "metadata": {},
   "outputs": [],
   "source": [
    "optimizer = tf.train.AdamOptimizer(learning_rate)\n",
    "loss_history = []"
   ]
  },
  {
   "cell_type": "code",
   "execution_count": 24,
   "metadata": {},
   "outputs": [
    {
     "name": "stdout",
     "output_type": "stream",
     "text": [
      "epochs: 50.00, step: 147, loss: 0.173866, (199.47 examples/sec; 0.020 sec/batch)\n",
      "training done!\n"
     ]
    }
   ],
   "source": [
    "total_steps = int( len(x_train_words) / batch_size * max_epochs)\n",
    "for (step, (seq_pad, seq_length, labels)) in enumerate(train_dataset.take(total_steps)): # just steps number (iterations), NOT epochs\n",
    "  start_time = time.time()\n",
    "  with tf.GradientTape() as tape:\n",
    "    logits = model(seq_pad)    \n",
    "    loss_value = tf.losses.sigmoid_cross_entropy(multi_class_labels=tf.one_hot(labels, depth=num_classes),\n",
    "                                                 logits=logits)\n",
    "    \n",
    "\n",
    "  loss_history.append(loss_value.numpy())\n",
    "  grads = tape.gradient(loss_value, model.variables)\n",
    "  optimizer.apply_gradients(zip(grads, model.variables),\n",
    "                            global_step=tf.train.get_or_create_global_step())\n",
    "  \n",
    "  if step % 3 == 0:\n",
    "      clear_output(wait=True)\n",
    "      duration = time.time() - start_time\n",
    "      examples_per_sec = batch_size / float(duration)\n",
    "      epochs = batch_size * step / float(len(x_train_words))\n",
    "      print(\"epochs: {:.2f}, step: {}, loss: {:g}, ({:.2f} examples/sec; {:.3f} sec/batch)\".format(epochs+1, step, loss_value, examples_per_sec, duration))\n",
    "    \n",
    "print(\"training done!\")"
   ]
  },
  {
   "cell_type": "markdown",
   "metadata": {},
   "source": [
    "### Plot the loss"
   ]
  },
  {
   "cell_type": "code",
   "execution_count": 25,
   "metadata": {},
   "outputs": [
    {
     "data": {
      "text/plain": [
       "[<matplotlib.lines.Line2D at 0x12c254518>]"
      ]
     },
     "execution_count": 25,
     "metadata": {},
     "output_type": "execute_result"
    },
    {
     "data": {
      "image/png": "[encoded data removed]",
      "text/plain": [
       "<Figure size 432x288 with 1 Axes>"
      ]
     },
     "metadata": {},
     "output_type": "display_data"
    }
   ],
   "source": [
    "loss_history = np.array(loss_history)\n",
    "plt.plot(loss_history, label='train')"
   ]
  },
  {
   "cell_type": "markdown",
   "metadata": {},
   "source": [
    "### Train accuracy and predcition"
   ]
  },
  {
   "cell_type": "code",
   "execution_count": 26,
   "metadata": {},
   "outputs": [],
   "source": [
    "train_dataset_eval = tf.data.Dataset.from_tensor_slices((x_train_pad, x_train_seq_length, y_train))\n",
    "train_dataset_eval = train_dataset_eval.batch(batch_size = len(x_train_pad))"
   ]
  },
  {
   "cell_type": "code",
   "execution_count": 27,
   "metadata": {},
   "outputs": [
    {
     "name": "stdout",
     "output_type": "stream",
     "text": [
      "test accuracy: 1.0\n"
     ]
    }
   ],
   "source": [
    "accuracy = tf.contrib.eager.metrics.Accuracy()\n",
    "\n",
    "for (step, (seq_pad, seq_length, labels)) in enumerate(train_dataset.take(1)):\n",
    "  logits = model(seq_pad)\n",
    "  accuracy(labels=labels, predictions=tf.cast(tf.argmax(logits, 1), tf.int32))\n",
    "  \n",
    "print(\"test accuracy: {}\".format(accuracy.result()))"
   ]
  },
  {
   "cell_type": "code",
   "execution_count": 28,
   "metadata": {},
   "outputs": [],
   "source": [
    "for (step, (seq_pad, seq_length, labels)) in enumerate(train_dataset_eval.take(1)):\n",
    "  logits = model(seq_pad)\n",
    "  predictions = tf.cast(tf.argmax(logits, 1), tf.int32)"
   ]
  },
  {
   "cell_type": "code",
   "execution_count": 29,
   "metadata": {},
   "outputs": [
    {
     "data": {
      "text/plain": [
       "<tf.Tensor: id=106308, shape=(12,), dtype=int32, numpy=array([0, 1, 0, 0, 1, 0, 1, 0, 0, 1, 0, 1], dtype=int32)>"
      ]
     },
     "execution_count": 29,
     "metadata": {},
     "output_type": "execute_result"
    }
   ],
   "source": [
    "predictions"
   ]
  },
  {
   "cell_type": "code",
   "execution_count": 30,
   "metadata": {},
   "outputs": [
    {
     "name": "stdout",
     "output_type": "stream",
     "text": [
      "good : positive\n",
      "bad : negative\n",
      "amazing : positive\n",
      "so good : positive\n",
      "bull shit : negative\n",
      "awesome : positive\n",
      "how dare : negative\n",
      "very much : positive\n",
      "nice : positive\n",
      "god damn it : negative\n",
      "very very very happy : positive\n",
      "what the fuck : negative\n"
     ]
    }
   ],
   "source": [
    "for x, y in zip(seq_pad, predictions):\n",
    "  if y.numpy() == 0:\n",
    "    print(\"{} : positive\".format(tokens_to_string(x.numpy())))\n",
    "  else:\n",
    "    print(\"{} : negative\".format(tokens_to_string(x.numpy())))"
   ]
  }
 ],
 "metadata": {
  "kernelspec": {
   "display_name": "Python 3",
   "language": "python",
   "name": "python3"
  },
  "language_info": {
   "codemirror_mode": {
    "name": "ipython",
    "version": 3
   },
   "file_extension": ".py",
   "mimetype": "text/x-python",
   "name": "python",
   "nbconvert_exporter": "python",
   "pygments_lexer": "ipython3",
   "version": "3.6.5"
  }
 },
 "nbformat": 4,
 "nbformat_minor": 2
}
