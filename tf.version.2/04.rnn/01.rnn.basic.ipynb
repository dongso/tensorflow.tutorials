{
 "cells": [
  {
   "cell_type": "markdown",
   "metadata": {},
   "source": [
    "# RNN 기본예제\n",
    "\n",
    "* 일부 코드 [김성훈 교수님 TensorFlow 강의자료](https://github.com/hunkim/DeepLearningZeroToAll) 참고"
   ]
  },
  {
   "cell_type": "code",
   "execution_count": 1,
   "metadata": {},
   "outputs": [],
   "source": [
    "from __future__ import absolute_import\n",
    "from __future__ import division\n",
    "from __future__ import print_function\n",
    "from __future__ import unicode_literals\n",
    "\n",
    "import os\n",
    "import time\n",
    "import numpy as np\n",
    "import matplotlib.pyplot as plt\n",
    "%matplotlib inline\n",
    "from IPython.display import clear_output\n",
    "\n",
    "import tensorflow as tf\n",
    "from tensorflow.keras import layers\n",
    "tf.enable_eager_execution()\n",
    "\n",
    "os.environ[\"CUDA_VISIBLE_DEVICES\"]=\"0\""
   ]
  },
  {
   "cell_type": "code",
   "execution_count": 2,
   "metadata": {},
   "outputs": [],
   "source": [
    "# One hot encoding for each char in 'hello'\n",
    "h = [1, 0, 0, 0]\n",
    "e = [0, 1, 0, 0]\n",
    "l = [0, 0, 1, 0]\n",
    "o = [0, 0, 0, 1]"
   ]
  },
  {
   "cell_type": "markdown",
   "metadata": {},
   "source": [
    "![image](https://cloud.githubusercontent.com/assets/901975/23348727/cc981856-fce7-11e6-83ea-4b187473466b.png)"
   ]
  },
  {
   "cell_type": "markdown",
   "metadata": {},
   "source": [
    "## Basic RNN Cell"
   ]
  },
  {
   "cell_type": "code",
   "execution_count": 3,
   "metadata": {},
   "outputs": [
    {
     "name": "stdout",
     "output_type": "stream",
     "text": [
      "output size: 2, state size: 2\n",
      "x_data: [[[1. 0. 0. 0.]]]\n",
      "outputs: [[[0.5034818 0.5997916]]]\n",
      "state: [[0.5034818 0.5997916]]\n"
     ]
    }
   ],
   "source": [
    "# One cell RNN input_dim (4) -> output_dim (2)\n",
    "hidden_size = 2\n",
    "cell = layers.SimpleRNNCell(units=hidden_size)\n",
    "print(\"output size: {}, state size: {}\".format(cell.output_size, cell.state_size))\n",
    "\n",
    "x_data = np.array([[h]], dtype=np.float32) # x_data = [[[1,0,0,0]]]\n",
    "print(\"x_data: {}\".format(x_data))\n",
    "outputs, state = tf.nn.dynamic_rnn(cell, x_data, dtype=tf.float32)\n",
    "\n",
    "print(\"outputs: {}\".format(outputs))\n",
    "print(\"state: {}\".format(state))"
   ]
  },
  {
   "cell_type": "markdown",
   "metadata": {},
   "source": [
    "![image](https://cloud.githubusercontent.com/assets/901975/23383634/649efd0a-fd82-11e6-925d-8041242743b0.png)"
   ]
  },
  {
   "cell_type": "code",
   "execution_count": 4,
   "metadata": {},
   "outputs": [
    {
     "name": "stdout",
     "output_type": "stream",
     "text": [
      "x_data shape: (1, 5, 4)\n",
      "x_data: [[[1. 0. 0. 0.]\n",
      "  [0. 1. 0. 0.]\n",
      "  [0. 0. 1. 0.]\n",
      "  [0. 0. 1. 0.]\n",
      "  [0. 0. 0. 1.]]]\n",
      "outputs: \n",
      "[[[-0.48331276 -0.23337014]\n",
      "  [-0.83849955 -0.8559475 ]\n",
      "  [-0.5538274  -0.5893036 ]\n",
      "  [-0.39711875 -0.33099362]\n",
      "  [ 0.49246302 -0.800418  ]]]\n",
      "state: [[ 0.49246302 -0.800418  ]]\n"
     ]
    }
   ],
   "source": [
    "# One cell RNN input_dim (4) -> output_dim (2). sequence: 5\n",
    "hidden_size = 2\n",
    "cell = layers.SimpleRNNCell(units=hidden_size)\n",
    "\n",
    "x_data = np.array([[h, e, l, l, o]], dtype=np.float32)\n",
    "print(\"x_data shape: {}\".format(x_data.shape))\n",
    "print(\"x_data: {}\".format(x_data))\n",
    "outputs, state = tf.nn.dynamic_rnn(cell, x_data, dtype=tf.float32)\n",
    "\n",
    "print(\"outputs: \\n{}\".format(outputs))\n",
    "print(\"state: {}\".format(state))"
   ]
  },
  {
   "cell_type": "markdown",
   "metadata": {},
   "source": [
    "## [`tf.nn.static_rnn`](https://www.tensorflow.org/api_docs/python/tf/nn/static_rnn)\n",
    "\n",
    "* `tf.nn.static_rnn` low level code\n",
    "\n",
    "```python\n",
    "state = cell.zero_state(...)\n",
    "outputs = []\n",
    "for input_ in inputs:\n",
    "  output, state = cell(input_, state)\n",
    "  outputs.append(output)\n",
    "return (outputs, state)\n",
    "```"
   ]
  },
  {
   "cell_type": "markdown",
   "metadata": {},
   "source": [
    "![image](https://cloud.githubusercontent.com/assets/901975/23383681/9943a9fc-fd82-11e6-8121-bd187994e249.png)"
   ]
  },
  {
   "cell_type": "markdown",
   "metadata": {},
   "source": [
    "## Basic LSTM Cell"
   ]
  },
  {
   "cell_type": "code",
   "execution_count": 5,
   "metadata": {},
   "outputs": [
    {
     "name": "stdout",
     "output_type": "stream",
     "text": [
      "outputs: \n",
      "[[[ 0.16124098  0.07774282]\n",
      "  [ 0.18148611  0.01622923]\n",
      "  [ 0.11790755  0.00409115]\n",
      "  [ 0.09718899 -0.00554332]\n",
      "  [ 0.08734586 -0.07566225]]\n",
      "\n",
      " [[ 0.08936659 -0.02563265]\n",
      "  [ 0.07056303 -0.09208202]\n",
      "  [ 0.07324565 -0.06932136]\n",
      "  [ 0.07650189 -0.04960919]\n",
      "  [ 0.07609452 -0.03748848]]\n",
      "\n",
      " [[ 0.01704304 -0.00613184]\n",
      "  [ 0.02960866 -0.01009088]\n",
      "  [ 0.11501449 -0.03135917]\n",
      "  [ 0.17081161 -0.04932691]\n",
      "  [ 0.12069311 -0.04881314]]]\n",
      "\n",
      "hidden cell state: \n",
      "[[ 0.08734586 -0.07566225]\n",
      " [ 0.07609452 -0.03748848]\n",
      " [ 0.12069311 -0.04881314]]\n",
      "\n",
      "memory cell state: \n",
      "[[ 0.1623024  -0.13980475]\n",
      " [ 0.15616222 -0.06278615]\n",
      " [ 0.24998915 -0.08224607]]\n"
     ]
    }
   ],
   "source": [
    "# One cell RNN input_dim (4) -> output_dim (2). sequence: 5, batch 3\n",
    "# 3 batches 'hello', 'eolll', 'lleel'\n",
    "x_data = np.array([[h, e, l, l, o],\n",
    "                   [e, o, l, l, l],\n",
    "                   [l, l, e, e, l]], dtype=np.float32)\n",
    "\n",
    "hidden_size = 2\n",
    "cell = layers.LSTMCell(units=hidden_size)\n",
    "outputs, state = tf.nn.dynamic_rnn(cell, x_data, dtype=tf.float32)\n",
    "\n",
    "print(\"outputs: \\n{}\\n\".format(outputs))\n",
    "print(\"hidden cell state: \\n{}\\n\".format(state[0])) # print hidden state\n",
    "print(\"memory cell state: \\n{}\".format(state[1])) # print memory cell"
   ]
  },
  {
   "cell_type": "markdown",
   "metadata": {},
   "source": [
    "## GRU Cell"
   ]
  },
  {
   "cell_type": "code",
   "execution_count": 6,
   "metadata": {},
   "outputs": [
    {
     "name": "stdout",
     "output_type": "stream",
     "text": [
      "outputs: \n",
      "[[[ 0.31907672  0.19675179]\n",
      "  [ 0.4611712   0.318963  ]\n",
      "  [ 0.5044569  -0.12687083]\n",
      "  [ 0.5511646  -0.3653683 ]\n",
      "  [ 0.45707193 -0.47028515]]\n",
      "\n",
      " [[ 0.3216637   0.1417966 ]\n",
      "  [ 0.30405253 -0.14752817]\n",
      "  [ 0.43425307 -0.3836176 ]\n",
      "  [ 0.5248003  -0.51566696]\n",
      "  [ 0.5826982  -0.5919316 ]]\n",
      "\n",
      " [[ 0.23043205 -0.31363416]\n",
      "  [ 0.40015054 -0.4812756 ]\n",
      "  [ 0.5521244  -0.22623542]\n",
      "  [ 0.5948154   0.00178742]\n",
      "  [ 0.59647006 -0.29097548]]]\n",
      "\n",
      "hidden cell state: \n",
      "[[ 0.45707193 -0.47028515]\n",
      " [ 0.5826982  -0.5919316 ]\n",
      " [ 0.59647006 -0.29097548]]\n"
     ]
    }
   ],
   "source": [
    "# One cell RNN input_dim (4) -> output_dim (2). sequence: 5, batch 3\n",
    "# 3 batches 'hello', 'eolll', 'lleel'\n",
    "x_data = np.array([[h, e, l, l, o],\n",
    "                   [e, o, l, l, l],\n",
    "                   [l, l, e, e, l]], dtype=np.float32)\n",
    "\n",
    "hidden_size = 2\n",
    "cell = layers.GRUCell(units=hidden_size)\n",
    "outputs, state = tf.nn.dynamic_rnn(cell, x_data, dtype=tf.float32)\n",
    "\n",
    "print(\"outputs: \\n{}\\n\".format(outputs))\n",
    "print(\"hidden cell state: \\n{}\".format(state)) # print hidden state"
   ]
  },
  {
   "cell_type": "markdown",
   "metadata": {},
   "source": [
    "### Dynamic length"
   ]
  },
  {
   "cell_type": "code",
   "execution_count": 7,
   "metadata": {},
   "outputs": [
    {
     "name": "stdout",
     "output_type": "stream",
     "text": [
      "outputs: \n",
      "[[[-0.07698726 -0.11695247]\n",
      "  [-0.0928534   0.11200894]\n",
      "  [ 0.07736171  0.12868488]\n",
      "  [ 0.19249515  0.14784949]\n",
      "  [ 0.19754007  0.17235704]]\n",
      "\n",
      " [[-0.0228599   0.18713196]\n",
      "  [ 0.06614862  0.14649574]\n",
      "  [ 0.19071694  0.13583323]\n",
      "  [ 0.          0.        ]\n",
      "  [ 0.          0.        ]]\n",
      "\n",
      " [[ 0.13757543  0.09225897]\n",
      "  [ 0.23415126  0.12461355]\n",
      "  [ 0.19373973  0.29415044]\n",
      "  [ 0.13101117  0.33376563]\n",
      "  [ 0.          0.        ]]]\n",
      "\n",
      "hidden cell state: \n",
      "[[0.19754007 0.17235704]\n",
      " [0.19071694 0.13583323]\n",
      " [0.13101117 0.33376563]]\n",
      "\n",
      "memory cell state: \n",
      "[[0.47287148 0.379082  ]\n",
      " [0.38813555 0.4240139 ]\n",
      " [0.21186183 0.6852767 ]]\n"
     ]
    }
   ],
   "source": [
    "# One cell RNN input_dim (4) -> output_dim (5). sequence: 5, batch 3\n",
    "# 3 batches 'hello', 'eolll', 'lleel'\n",
    "x_data = np.array([[h, e, l, l, o],\n",
    "                   [e, o, l, l, l],\n",
    "                   [l, l, e, e, l]], dtype=np.float32)\n",
    "\n",
    "hidden_size = 2\n",
    "cell = layers.LSTMCell(units=hidden_size)\n",
    "outputs, state = tf.nn.dynamic_rnn(cell, x_data, sequence_length=[5,3,4], dtype=tf.float32)\n",
    "\n",
    "print(\"outputs: \\n{}\\n\".format(outputs))\n",
    "print(\"hidden cell state: \\n{}\\n\".format(state[0])) # print hidden state\n",
    "print(\"memory cell state: \\n{}\".format(state[1])) # print memory cell"
   ]
  },
  {
   "cell_type": "markdown",
   "metadata": {},
   "source": [
    "## Create new input data"
   ]
  },
  {
   "cell_type": "code",
   "execution_count": 8,
   "metadata": {},
   "outputs": [
    {
     "name": "stdout",
     "output_type": "stream",
     "text": [
      "[[[ 0.  1.  2.]\n",
      "  [ 3.  4.  5.]\n",
      "  [ 6.  7.  8.]\n",
      "  [ 9. 10. 11.]\n",
      "  [12. 13. 14.]]\n",
      "\n",
      " [[15. 16. 17.]\n",
      "  [18. 19. 20.]\n",
      "  [21. 22. 23.]\n",
      "  [24. 25. 26.]\n",
      "  [27. 28. 29.]]\n",
      "\n",
      " [[30. 31. 32.]\n",
      "  [33. 34. 35.]\n",
      "  [36. 37. 38.]\n",
      "  [39. 40. 41.]\n",
      "  [42. 43. 44.]]]\n"
     ]
    }
   ],
   "source": [
    "# Create new input data\n",
    "batch_size=3\n",
    "sequence_length=5\n",
    "input_dim=3\n",
    "\n",
    "x_data = np.arange(45, dtype=np.float32).reshape(batch_size, sequence_length, input_dim)\n",
    "print(x_data)  # [batch, sequence_length, input_dim]"
   ]
  },
  {
   "cell_type": "markdown",
   "metadata": {},
   "source": [
    "## Bi-directional RNN"
   ]
  },
  {
   "cell_type": "markdown",
   "metadata": {},
   "source": [
    "![bidirectional_rnn](https://user-images.githubusercontent.com/11681225/46912324-3d53e400-cfad-11e8-8b09-85d8ebdb0e66.png)"
   ]
  },
  {
   "cell_type": "markdown",
   "metadata": {},
   "source": [
    "### Bi-directional RNN with basic RNN Cell"
   ]
  },
  {
   "cell_type": "code",
   "execution_count": 9,
   "metadata": {},
   "outputs": [
    {
     "name": "stdout",
     "output_type": "stream",
     "text": [
      "foward outputs: \n",
      "[[[-0.40358502  0.9652634  -0.20287427  0.9733273 ]\n",
      "  [ 0.44118115  0.99811715 -0.9986288   0.999167  ]\n",
      "  [ 0.          0.          0.          0.        ]\n",
      "  [ 0.          0.          0.          0.        ]\n",
      "  [ 0.          0.          0.          0.        ]]\n",
      "\n",
      " [[ 0.99999774  1.         -1.          1.        ]\n",
      "  [ 0.99999994  1.         -1.          1.        ]\n",
      "  [ 1.          1.         -1.          1.        ]\n",
      "  [ 0.          0.          0.          0.        ]\n",
      "  [ 0.          0.          0.          0.        ]]\n",
      "\n",
      " [[ 1.          1.         -1.          1.        ]\n",
      "  [ 0.          0.          0.          0.        ]\n",
      "  [ 0.          0.          0.          0.        ]\n",
      "  [ 0.          0.          0.          0.        ]\n",
      "  [ 0.          0.          0.          0.        ]]]\n",
      "\n",
      "forward hidden cell state: \n",
      "[[ 0.44118115  0.99811715 -0.9986288   0.999167  ]\n",
      " [ 1.          1.         -1.          1.        ]\n",
      " [ 1.          1.         -1.          1.        ]]\n",
      "\n",
      "backward outputs: \n",
      "[[[-0.07099338  0.9755663  -0.75135994 -0.9829886 ]\n",
      "  [-0.9839494   0.9413368  -0.99998415 -0.9988732 ]\n",
      "  [ 0.          0.          0.          0.        ]\n",
      "  [ 0.          0.          0.          0.        ]\n",
      "  [ 0.          0.          0.          0.        ]]\n",
      "\n",
      " [[-1.          0.99961895 -1.         -1.        ]\n",
      "  [-1.          0.9998328  -1.         -1.        ]\n",
      "  [-1.          0.9995697  -1.         -1.        ]\n",
      "  [ 0.          0.          0.          0.        ]\n",
      "  [ 0.          0.          0.          0.        ]]\n",
      "\n",
      " [[-1.          0.99996364 -1.         -1.        ]\n",
      "  [ 0.          0.          0.          0.        ]\n",
      "  [ 0.          0.          0.          0.        ]\n",
      "  [ 0.          0.          0.          0.        ]\n",
      "  [ 0.          0.          0.          0.        ]]]\n",
      "\n",
      "backward hidden cell state: \n",
      "[[-0.07099338  0.9755663  -0.75135994 -0.9829886 ]\n",
      " [-1.          0.99961895 -1.         -1.        ]\n",
      " [-1.          0.99996364 -1.         -1.        ]]\n"
     ]
    }
   ],
   "source": [
    "# bi-directional rnn\n",
    "cell_fw = layers.SimpleRNNCell(units=4)\n",
    "cell_bw = layers.SimpleRNNCell(units=4)\n",
    "\n",
    "# x_data.shape = (3, 5, 3) [batch, sequence_length, input_dim]\n",
    "# outputs.shape = two element tuple of (3, 5, 4) [batch, sequence_length, input_dim] shape\n",
    "    # outputs[0]: cell_fw, outputs[1]: cell_bw\n",
    "# state.shape = two element tuple (3, 4) [batch, sequence_length, input_dim]\n",
    "    # states[0]: cell_fw, states[1]: cell_bw\n",
    "outputs, states = tf.nn.bidirectional_dynamic_rnn(cell_fw, cell_bw, x_data,\n",
    "                                                  sequence_length=[2, 3, 1],\n",
    "                                                  dtype=tf.float32)\n",
    "\n",
    "print(\"foward outputs: \\n{}\\n\".format(outputs[0]))\n",
    "print(\"forward hidden cell state: \\n{}\\n\".format(states[0]))\n",
    "print(\"backward outputs: \\n{}\\n\".format(outputs[1]))\n",
    "print(\"backward hidden cell state: \\n{}\".format(states[1]))"
   ]
  },
  {
   "cell_type": "markdown",
   "metadata": {},
   "source": [
    "### Bi-directional RNN with basic LSTM Cell"
   ]
  },
  {
   "cell_type": "code",
   "execution_count": 10,
   "metadata": {},
   "outputs": [
    {
     "name": "stdout",
     "output_type": "stream",
     "text": [
      "foward outputs: \n",
      "[[[ 0.3137948  -0.0451128  -0.18770176  0.15528035]\n",
      "  [ 0.6219683   0.08943878 -0.26848027  0.5736951 ]\n",
      "  [ 0.          0.          0.          0.        ]\n",
      "  [ 0.          0.          0.          0.        ]\n",
      "  [ 0.          0.          0.          0.        ]]\n",
      "\n",
      " [[ 0.7615942   0.         -0.03594108  0.761589  ]\n",
      "  [ 0.7615942   0.         -0.03941034  0.7615936 ]\n",
      "  [ 0.7615942   0.         -0.01927364  0.7615942 ]\n",
      "  [ 0.          0.          0.          0.        ]\n",
      "  [ 0.          0.          0.          0.        ]]\n",
      "\n",
      " [[ 0.7615942   0.          0.          0.7615942 ]\n",
      "  [ 0.          0.          0.          0.        ]\n",
      "  [ 0.          0.          0.          0.        ]\n",
      "  [ 0.          0.          0.          0.        ]\n",
      "  [ 0.          0.          0.          0.        ]]]\n",
      "\n",
      "forward hidden cell state: \n",
      "[[ 0.6219683   0.08943878 -0.26848027  0.5736951 ]\n",
      " [ 0.7615942   0.         -0.01927364  0.7615942 ]\n",
      " [ 0.7615942   0.          0.          0.7615942 ]]\n",
      "\n",
      "forward memory cell state: \n",
      "[[ 1.3167651   0.21944526 -0.8222623   0.74815005]\n",
      " [ 1.          2.9686065  -0.10786524  0.9999999 ]\n",
      " [ 1.          0.9997184   0.          1.        ]]\n",
      "\n",
      "backward outputs: \n",
      "[[[ 0.46334726 -0.09166539 -0.1452913  -0.17548437]\n",
      "  [ 0.69643176 -0.30989566  0.         -0.22648205]\n",
      "  [ 0.          0.          0.          0.        ]\n",
      "  [ 0.          0.          0.          0.        ]\n",
      "  [ 0.          0.          0.          0.        ]]\n",
      "\n",
      " [[ 0.7614319  -0.9936137   0.         -0.15008761]\n",
      "  [ 0.76154333 -0.9630249   0.         -0.11923396]\n",
      "  [ 0.7615737  -0.76158804  0.         -0.14837281]\n",
      "  [ 0.          0.          0.          0.        ]\n",
      "  [ 0.          0.          0.          0.        ]]\n",
      "\n",
      " [[ 0.7615939  -0.7615942   0.         -0.049476  ]\n",
      "  [ 0.          0.          0.          0.        ]\n",
      "  [ 0.          0.          0.          0.        ]\n",
      "  [ 0.          0.          0.          0.        ]\n",
      "  [ 0.          0.          0.          0.        ]]]\n",
      "\n",
      "backward hidden cell state: \n",
      "[[ 0.46334726 -0.09166539 -0.1452913  -0.17548437]\n",
      " [ 0.7614319  -0.9936137   0.         -0.15008761]\n",
      " [ 0.7615939  -0.7615942   0.         -0.049476  ]]\n",
      "\n",
      "backward memory cell state: \n",
      "[[ 0.8520688  -0.19950262 -0.26957792 -0.43826696]\n",
      " [ 0.9996137  -2.8717666   0.         -2.859727  ]\n",
      " [ 0.99999917 -0.9999999   0.         -1.        ]]\n"
     ]
    }
   ],
   "source": [
    "# bi-directional rnn\n",
    "cell_fw = layers.LSTMCell(units=4)\n",
    "cell_bw = layers.LSTMCell(units=4)\n",
    "\n",
    "# x_data.shape = (3, 5, 3) [batch, sequence_length, input_dim]\n",
    "# outputs.shape = two element tuple of (3, 5, 4) [batch, sequence_length, input_dim] shape\n",
    "    # outputs[0]: cell_fw, outputs[1]: cell_bw\n",
    "# state.shape = two element tuple (3, 4) [batch, sequence_length, input_dim]\n",
    "    # states[0]: cell_fw, states[1]: cell_bw\n",
    "outputs, state = tf.nn.bidirectional_dynamic_rnn(cell_fw, cell_bw, x_data,\n",
    "                                                  sequence_length=[2, 3, 1],\n",
    "                                                  dtype=tf.float32)\n",
    "\n",
    "print(\"foward outputs: \\n{}\\n\".format(outputs[0]))\n",
    "print(\"forward hidden cell state: \\n{}\\n\".format(state[0][0]))\n",
    "print(\"forward memory cell state: \\n{}\\n\".format(state[0][1]))\n",
    "print(\"backward outputs: \\n{}\\n\".format(outputs[1]))\n",
    "print(\"backward hidden cell state: \\n{}\\n\".format(state[1][0]))\n",
    "print(\"backward memory cell state: \\n{}\".format(state[1][1]))"
   ]
  },
  {
   "cell_type": "markdown",
   "metadata": {},
   "source": [
    "## Multi-Layer RNN"
   ]
  },
  {
   "cell_type": "markdown",
   "metadata": {},
   "source": [
    "![multilayer_rnn](https://user-images.githubusercontent.com/11681225/46912330-5fe5fd00-cfad-11e8-95c2-94bb8e7b1bf6.png)"
   ]
  },
  {
   "cell_type": "markdown",
   "metadata": {},
   "source": [
    "### Multi-Layer RNN with basic RNN Cell"
   ]
  },
  {
   "cell_type": "code",
   "execution_count": 11,
   "metadata": {},
   "outputs": [
    {
     "name": "stdout",
     "output_type": "stream",
     "text": [
      "outputs: shape: (3, 5, 4)\n",
      "[[[ 0.46527517  0.8957562   0.13507953  0.6803553 ]\n",
      "  [-0.17105314  0.88875115  0.3006336   0.29939228]\n",
      "  [ 0.          0.          0.          0.        ]\n",
      "  [ 0.          0.          0.          0.        ]\n",
      "  [ 0.          0.          0.          0.        ]]\n",
      "\n",
      " [[ 0.56768143  0.9678955   0.38204247  0.811171  ]\n",
      "  [-0.40243134  0.8819942   0.20982388 -0.05976258]\n",
      "  [-0.4138979   0.95484185  0.7880777   0.44085425]\n",
      "  [ 0.          0.          0.          0.        ]\n",
      "  [ 0.          0.          0.          0.        ]]\n",
      "\n",
      " [[ 0.57959753  0.97044814  0.38092408  0.8177128 ]\n",
      "  [ 0.          0.          0.          0.        ]\n",
      "  [ 0.          0.          0.          0.        ]\n",
      "  [ 0.          0.          0.          0.        ]\n",
      "  [ 0.          0.          0.          0.        ]]]\n",
      "\n",
      "Number of Layers: 3\n",
      "Layer 1 hidden cell state: \n",
      "[[ 0.31426716  1.         -0.9770779   0.9995992 ]\n",
      " [ 0.65934485  1.         -1.          1.        ]\n",
      " [ 0.8019041   1.         -1.          1.        ]]\n",
      "\n",
      "Layer 2 hidden cell state: \n",
      "[[ 0.8850188   0.78408766  0.9168718  -0.9719015 ]\n",
      " [ 0.90513515  0.42784894  0.93406534 -0.9817897 ]\n",
      " [ 0.7348455   0.9537167   0.8673128  -0.8966067 ]]\n",
      "\n",
      "Layer 3 hidden cell state: \n",
      "[[-0.17105314  0.88875115  0.3006336   0.29939228]\n",
      " [-0.4138979   0.95484185  0.7880777   0.44085425]\n",
      " [ 0.57959753  0.97044814  0.38092408  0.8177128 ]]\n",
      "\n"
     ]
    }
   ],
   "source": [
    "# MultiLayer RNN\n",
    "num_layers = 3\n",
    "multi_cells = layers.StackedRNNCells([layers.SimpleRNNCell(4) for _ in range(num_layers)])\n",
    "\n",
    "outputs, states = tf.nn.dynamic_rnn(multi_cells, x_data,\n",
    "                                    sequence_length=[2, 3, 1],\n",
    "                                    dtype=tf.float32)\n",
    "\n",
    "print(\"outputs: shape: {}\\n{}\\n\".format(outputs.shape, outputs))\n",
    "print(\"Number of Layers: {}\".format(len(states))) \n",
    "for i in range(num_layers):\n",
    "  print(\"Layer {} hidden cell state: \\n{}\\n\".format(i+1, states[i]))"
   ]
  },
  {
   "cell_type": "markdown",
   "metadata": {},
   "source": [
    "### Multi-Layer RNN with basic LSTM Cell"
   ]
  },
  {
   "cell_type": "code",
   "execution_count": 12,
   "metadata": {},
   "outputs": [],
   "source": [
    "# MultiLayer RNN\n",
    "num_layers = 3\n",
    "multi_cells = layers.StackedRNNCells([layers.LSTMCell(4) for _ in range(num_layers)])\n",
    "outputs, states = tf.nn.dynamic_rnn(multi_cells, x_data,\n",
    "                                    sequence_length=[2, 3, 1],\n",
    "                                    dtype=tf.float32)"
   ]
  },
  {
   "cell_type": "code",
   "execution_count": 13,
   "metadata": {},
   "outputs": [
    {
     "name": "stdout",
     "output_type": "stream",
     "text": [
      "outputs: shape: (3, 5, 4)\n",
      "[[[-0.0013944  -0.00241575  0.00151124 -0.00032956]\n",
      "  [-0.00094512 -0.00730149  0.00625388 -0.00193355]\n",
      "  [ 0.          0.          0.          0.        ]\n",
      "  [ 0.          0.          0.          0.        ]\n",
      "  [ 0.          0.          0.          0.        ]]\n",
      "\n",
      " [[ 0.          0.          0.          0.        ]\n",
      "  [ 0.          0.          0.          0.        ]\n",
      "  [ 0.          0.          0.          0.        ]\n",
      "  [ 0.          0.          0.          0.        ]\n",
      "  [ 0.          0.          0.          0.        ]]\n",
      "\n",
      " [[ 0.          0.          0.          0.        ]\n",
      "  [ 0.          0.          0.          0.        ]\n",
      "  [ 0.          0.          0.          0.        ]\n",
      "  [ 0.          0.          0.          0.        ]\n",
      "  [ 0.          0.          0.          0.        ]]]\n",
      "\n",
      "Number of Layers: 6\n",
      "Layer 1 hidden cell state: \n",
      "[[ 0.06009288 -0.         -0.22598587  0.07816646]\n",
      " [ 0.         -0.          0.          0.        ]\n",
      " [ 0.         -0.          0.          0.        ]]\n",
      "\n",
      "Layer 1 memory cell state: \n",
      "[[ 1.04555815e-01 -3.95900279e-01 -2.45806962e-01  3.30372453e-01]\n",
      " [ 0.00000000e+00 -9.97225225e-01  0.00000000e+00  5.31910802e-04]\n",
      " [ 0.00000000e+00 -9.99850273e-01  0.00000000e+00  0.00000000e+00]]\n",
      "\n",
      "Layer 2 hidden cell state: \n",
      "[[-0.02846416  0.0144145   0.02993488  0.04495028]\n",
      " [ 0.          0.          0.          0.        ]\n",
      " [ 0.          0.          0.          0.        ]]\n",
      "\n",
      "Layer 2 memory cell state: \n",
      "[[-0.05672964  0.02917424  0.05821472  0.09137034]\n",
      " [ 0.          0.          0.          0.        ]\n",
      " [ 0.          0.          0.          0.        ]]\n",
      "\n",
      "Layer 3 hidden cell state: \n",
      "[[-0.00094512 -0.00730149  0.00625388 -0.00193355]\n",
      " [ 0.          0.          0.          0.        ]\n",
      " [ 0.          0.          0.          0.        ]]\n",
      "\n",
      "Layer 3 memory cell state: \n",
      "[[-0.00189879 -0.01467262  0.01248228 -0.00390515]\n",
      " [ 0.          0.          0.          0.        ]\n",
      " [ 0.          0.          0.          0.        ]]\n",
      "\n"
     ]
    }
   ],
   "source": [
    "print(\"outputs: shape: {}\\n{}\\n\".format(outputs.shape, outputs))\n",
    "print(\"Number of Layers: {}\".format(len(states))) \n",
    "for i in range(num_layers):\n",
    "  print(\"Layer {} hidden cell state: \\n{}\\n\".format(i+1, states[2*i]))\n",
    "  print(\"Layer {} memory cell state: \\n{}\\n\".format(i+1, states[2*i+1]))"
   ]
  }
 ],
 "metadata": {
  "kernelspec": {
   "display_name": "Python 3",
   "language": "python",
   "name": "python3"
  },
  "language_info": {
   "codemirror_mode": {
    "name": "ipython",
    "version": 3
   },
   "file_extension": ".py",
   "mimetype": "text/x-python",
   "name": "python",
   "nbconvert_exporter": "python",
   "pygments_lexer": "ipython3",
   "version": "3.6.5"
  },
  "latex_envs": {
   "LaTeX_envs_menu_present": true,
   "autoclose": false,
   "autocomplete": true,
   "bibliofile": "biblio.bib",
   "cite_by": "apalike",
   "current_citInitial": 1,
   "eqLabelWithNumbers": true,
   "eqNumInitial": 1,
   "hotkeys": {
    "equation": "Ctrl-E",
    "itemize": "Ctrl-I"
   },
   "labels_anchors": false,
   "latex_user_defs": false,
   "report_style_numbering": false,
   "user_envs_cfg": false
  },
  "toc": {
   "base_numbering": 1,
   "nav_menu": {},
   "number_sections": true,
   "sideBar": true,
   "skip_h1_title": false,
   "title_cell": "Table of Contents",
   "title_sidebar": "Contents",
   "toc_cell": false,
   "toc_position": {},
   "toc_section_display": true,
   "toc_window_display": false
  },
  "varInspector": {
   "cols": {
    "lenName": 16,
    "lenType": 16,
    "lenVar": 40
   },
   "kernels_config": {
    "python": {
     "delete_cmd_postfix": "",
     "delete_cmd_prefix": "del ",
     "library": "var_list.py",
     "varRefreshCmd": "print(var_dic_list())"
    },
    "r": {
     "delete_cmd_postfix": ") ",
     "delete_cmd_prefix": "rm(",
     "library": "var_list.r",
     "varRefreshCmd": "cat(var_dic_list()) "
    }
   },
   "types_to_exclude": [
    "module",
    "function",
    "builtin_function_or_method",
    "instance",
    "_Feature"
   ],
   "window_display": false
  }
 },
 "nbformat": 4,
 "nbformat_minor": 1
}
