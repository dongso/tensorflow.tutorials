{
 "cells": [
  {
   "cell_type": "code",
   "execution_count": null,
   "metadata": {},
   "outputs": [],
   "source": [
    "import tensorflow as tf"
   ]
  },
  {
   "cell_type": "code",
   "execution_count": null,
   "metadata": {},
   "outputs": [],
   "source": [
    "tf.enable_eager_execution()"
   ]
  },
  {
   "cell_type": "code",
   "execution_count": null,
   "metadata": {},
   "outputs": [],
   "source": [
    "print('TensorFlow version: {}'.format(tf.__version__))"
   ]
  },
  {
   "cell_type": "code",
   "execution_count": null,
   "metadata": {},
   "outputs": [],
   "source": [
    "layers = tf.keras.layers"
   ]
  },
  {
   "cell_type": "code",
   "execution_count": null,
   "metadata": {},
   "outputs": [],
   "source": [
    "class MySimpleRNN(layers.Layer):\n",
    "  def __init__(self, output_dim, return_sequences=False, **kwargs):\n",
    "    super(MySimpleRNN, self).__init__(**kwargs)\n",
    "    self.output_dim = output_dim\n",
    "    self.return_sequences = return_sequences\n",
    "    \n",
    "  def build(self, input_shape):\n",
    "    shape1 = tf.TensorShape((input_shape[-1], self.output_dim))\n",
    "    shape2 = tf.TensorShape((self.output_dim, self.output_dim))\n",
    "    # Create a trainable weight variable for this layer.\n",
    "    self.kernel = self.add_weight(name='kernel',\n",
    "                                  shape=shape1,\n",
    "                                  initializer='uniform',\n",
    "                                  trainable=True)\n",
    "    self.recurrent_kernel = self.add_weight(name='recurrent_kernel',\n",
    "                                            shape=shape2,\n",
    "                                            initializer='uniform',\n",
    "                                            trainable=True)\n",
    "    self.bias = self.add_weight(name='bias',\n",
    "                                shape=self.output_dim,\n",
    "                                initializer='zeros',\n",
    "                                trainable=True)\n",
    "    # Make sure to call the `build` method at the end\n",
    "    super(MySimpleRNN, self).build(input_shape)\n",
    "\n",
    "  def call(self, inputs):\n",
    "    batch = inputs.get_shape()[0]\n",
    "    seq_length = inputs.get_shape()[1]\n",
    "    h = tf.zeros([batch, self.output_dim])\n",
    "    if self.return_sequences:\n",
    "      h_list = []\n",
    "    for i in range(seq_length):\n",
    "      h = tf.math.tanh(tf.matmul(inputs[:, i, :], self.kernel) + \n",
    "                       tf.matmul(h, self.recurrent_kernel) + self.bias)\n",
    "      if self.return_sequences:\n",
    "        h_list.append(h)\n",
    "    \n",
    "    if self.return_sequences:\n",
    "      h_list = np.array(h_list)\n",
    "      h_list = np.transpose(h_list, axes=[1, 0, 2])\n",
    "      return tf.convert_to_tensor(h_list)\n",
    "    else:\n",
    "      return h"
   ]
  },
  {
   "cell_type": "code",
   "execution_count": null,
   "metadata": {},
   "outputs": [],
   "source": [
    "model = tf.keras.Sequential()"
   ]
  },
  {
   "cell_type": "code",
   "execution_count": null,
   "metadata": {},
   "outputs": [],
   "source": [
    "#model.add(layers.SimpleRNN(units=3, return_sequences=True))\n",
    "#model.add(layers.LSTM(2))\n",
    "#model.add(layers.GRU(4, return_sequences=True))\n",
    "#model.add(layers.LSTM(8, return_sequences=True))\n",
    "#model.add(layers.GRU(16))\n",
    "model.add(MySimpleRNN(3, return_sequences=True))\n",
    "model.add(MySimpleRNN(3))\n",
    "model.add(layers.Dense(1))"
   ]
  },
  {
   "cell_type": "markdown",
   "metadata": {},
   "source": [
    "$$h_t = \\tanh (Wh + Ux)$$\n",
    "$$h_t = ReLU (Ux)$$\n"
   ]
  },
  {
   "cell_type": "code",
   "execution_count": null,
   "metadata": {},
   "outputs": [],
   "source": [
    "inputs = tf.random_normal([2, 4, 2])\n",
    "\n",
    "outputs = model(inputs)"
   ]
  },
  {
   "cell_type": "code",
   "execution_count": null,
   "metadata": {},
   "outputs": [],
   "source": [
    "outputs.shape"
   ]
  },
  {
   "cell_type": "code",
   "execution_count": null,
   "metadata": {},
   "outputs": [],
   "source": [
    "outputs.numpy()"
   ]
  },
  {
   "cell_type": "code",
   "execution_count": null,
   "metadata": {},
   "outputs": [],
   "source": [
    "model.trainable_variables"
   ]
  },
  {
   "cell_type": "code",
   "execution_count": null,
   "metadata": {},
   "outputs": [],
   "source": [
    "opt = tf.train.AdamOptimizer()"
   ]
  },
  {
   "cell_type": "code",
   "execution_count": null,
   "metadata": {},
   "outputs": [],
   "source": [
    "for i in range(10):\n",
    "  with tf.GradientTape() as tape:\n",
    "    inputs = tf.random_normal([1, 4, 2])\n",
    "    outputs = model(inputs)\n",
    "    \n",
    "    loss = tf.losses.mean_squared_error(labels=tf.ones(outputs.get_shape()),\n",
    "                                        predictions=outputs)\n",
    "  grad = tape.gradient(loss, model.variables)\n",
    "  opt.apply_gradients(zip(grad, model.variables))\n",
    "\n"
   ]
  }
 ],
 "metadata": {
  "kernelspec": {
   "display_name": "venv",
   "language": "python",
   "name": "venv"
  },
  "language_info": {
   "codemirror_mode": {
    "name": "ipython",
    "version": 3
   },
   "file_extension": ".py",
   "mimetype": "text/x-python",
   "name": "python",
   "nbconvert_exporter": "python",
   "pygments_lexer": "ipython3",
   "version": "3.6.5"
  },
  "latex_envs": {
   "LaTeX_envs_menu_present": true,
   "autoclose": false,
   "autocomplete": true,
   "bibliofile": "biblio.bib",
   "cite_by": "apalike",
   "current_citInitial": 1,
   "eqLabelWithNumbers": true,
   "eqNumInitial": 1,
   "hotkeys": {
    "equation": "Ctrl-E",
    "itemize": "Ctrl-I"
   },
   "labels_anchors": false,
   "latex_user_defs": false,
   "report_style_numbering": false,
   "user_envs_cfg": false
  },
  "toc": {
   "base_numbering": 1,
   "nav_menu": {},
   "number_sections": true,
   "sideBar": true,
   "skip_h1_title": false,
   "title_cell": "Table of Contents",
   "title_sidebar": "Contents",
   "toc_cell": false,
   "toc_position": {},
   "toc_section_display": true,
   "toc_window_display": false
  },
  "varInspector": {
   "cols": {
    "lenName": 16,
    "lenType": 16,
    "lenVar": 40
   },
   "kernels_config": {
    "python": {
     "delete_cmd_postfix": "",
     "delete_cmd_prefix": "del ",
     "library": "var_list.py",
     "varRefreshCmd": "print(var_dic_list())"
    },
    "r": {
     "delete_cmd_postfix": ") ",
     "delete_cmd_prefix": "rm(",
     "library": "var_list.r",
     "varRefreshCmd": "cat(var_dic_list()) "
    }
   },
   "types_to_exclude": [
    "module",
    "function",
    "builtin_function_or_method",
    "instance",
    "_Feature"
   ],
   "window_display": false
  }
 },
 "nbformat": 4,
 "nbformat_minor": 2
}
